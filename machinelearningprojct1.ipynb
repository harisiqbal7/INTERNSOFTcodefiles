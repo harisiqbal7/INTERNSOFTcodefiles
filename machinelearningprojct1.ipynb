# -*- coding: utf-8 -*-
"""
Spyder Editor

This is a temporary script file.
"""

import pandas as pd
import matplotlib.pyplot as plt

# Reading the data
data = pd.read_csv("advertising.csv")
print(data.head())  # Using print for better output in some environments

# To visualize the data
fig, axs = plt.subplots(1, 3, sharey=True, figsize=(14, 7))
data.plot(kind='scatter', x='TV', y='Sales', ax=axs[0])  # Scatter plot for TV
data.plot(kind='scatter', x='Radio', y='Sales', ax=axs[1])  # Scatter plot for Radio
data.plot(kind='scatter', x='Newspaper', y='Sales', ax=axs[2])  # Scatter plot for Newspaper

#creating X&Y for linear regression
feature_cols = ['TV']
X = data[feature_cols]
y = data.Sales



#importing linear regression linear regegression alg for simple linear regression
from sklearn.linear_model import LinearRegression
lr = LinearRegression()
lr.fit(X,y)

print(lr.intercept_)
print(lr.coef_)




result = 6.97+0.0554*50
print(result)


#Create a dataframe with min and max value of the table
X_new = pd.DataFrame({'TV':[data.TV.min(),data.TV.max()]})
X_new.head()



preds = lr.predict(X_new)
preds

data.plot(kind='scatter',x='TV',y='Sales')

plt.plot(X_new,preds,c='red',linewidth=3)

import statsmodels.formula.api as smf
lm = smf.ols(formula='Sales ~ TV',data=data).fit()
lm.conf_int()

#finding The probability values
lm.pvalues


#FIND THE RSQUARED VALUES
lm.rsquared

#MULTI LINEAR REGRESSION
feature_cols =['TV','Radio','Newspaper']
X = data[feature_cols]
y = data.Sales

lr =LinearRegression()
lr.fit(X,y)


print(lr.intercept_)
print(lr.coef_)


lm = smf.ols(formula='Sales ~ TV+Radio+Newspaper',data=data).fit()
lm.conf_int()
lm.summary()






